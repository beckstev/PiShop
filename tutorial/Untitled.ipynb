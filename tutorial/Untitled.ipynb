{
 "cells": [
  {
   "cell_type": "markdown",
   "metadata": {},
   "source": [
    "# Raspberry Pi and Smart Home Projects\n",
    " __A workshop by Karl Schiller, Steven Becker and Stackoverflow__"
   ]
  },
  {
   "cell_type": "markdown",
   "metadata": {},
   "source": [
    "## Agenda\n",
    "\n",
    "1. Der PiShop\n",
    "\n",
    "2. Was ist ein Raspberry Pi\n",
    "\n",
    "3. Die Projekte \n",
    "\n",
    "4. Gruppenbildung"
   ]
  },
  {
   "cell_type": "markdown",
   "metadata": {},
   "source": [
    "\n",
    "\n",
    "\n",
    "\n",
    "\n",
    "\n",
    "\n",
    "\n",
    "\n",
    "\n",
    "\n",
    "\n",
    "\n",
    "\n",
    "\n",
    "\n",
    "\n",
    "\n",
    "\n",
    "\n",
    "\n",
    "\n",
    "\n"
   ]
  },
  {
   "cell_type": "markdown",
   "metadata": {},
   "source": [
    "# Der PiShop\n",
    "\n",
    "__Freitag__\n",
    "\n",
    "- 17 Uhr Eintreffen der Teilnehmer*innen\n",
    "- 17:30 Uhr Abendessen \n",
    "- 18:30 Einführung \n",
    "- 19:30 Uhr Beginn mit der Projektarbeit\n",
    "\n",
    "__Samstag__\n",
    "\n",
    "- 8:30-9:30 Uhr Frühstück\n",
    "- 13:30 Uhr Besprechung der ersten Ergebnisse\n",
    "- 14 Uhr Mittagessen\n",
    "- 19 Uhr Abendessen \n",
    "\n",
    "__Sonntag__\n",
    "- 8:30-9:30 Uhr Frühstück\n",
    "- 12 Uhr Besprechung der Ergebnis\n",
    "- 13:30 Uhr Auffräumen und anschließende Abreise"
   ]
  },
  {
   "cell_type": "markdown",
   "metadata": {},
   "source": [
    "\n",
    "\n",
    "\n",
    "\n",
    "\n",
    "\n",
    "\n",
    "\n",
    "\n",
    "\n",
    "\n",
    "\n",
    "\n",
    "\n",
    "\n"
   ]
  },
  {
   "cell_type": "markdown",
   "metadata": {},
   "source": [
    "## Was ist ein Raspberry Pi"
   ]
  },
  {
   "cell_type": "markdown",
   "metadata": {},
   "source": [
    "<html>\n",
    "    <img src='./images/raspberry-pi.png'>    \n",
    "</html>"
   ]
  },
  {
   "cell_type": "code",
   "execution_count": null,
   "metadata": {},
   "outputs": [],
   "source": []
  },
  {
   "cell_type": "markdown",
   "metadata": {},
   "source": [
    "<html>\n",
    "    <img src='./images/pi-sd.png'> \n",
    "</html>"
   ]
  },
  {
   "cell_type": "markdown",
   "metadata": {},
   "source": [
    "<html>\n",
    "     <img src='./images/pi-labelled.png'>\n",
    "</html>"
   ]
  },
  {
   "cell_type": "markdown",
   "metadata": {},
   "source": [
    "GPIO Pin Map"
   ]
  },
  {
   "cell_type": "code",
   "execution_count": null,
   "metadata": {},
   "outputs": [],
   "source": []
  }
 ],
 "metadata": {
  "kernelspec": {
   "display_name": "Python 3",
   "language": "python",
   "name": "python3"
  },
  "language_info": {
   "codemirror_mode": {
    "name": "ipython",
    "version": 3
   },
   "file_extension": ".py",
   "mimetype": "text/x-python",
   "name": "python",
   "nbconvert_exporter": "python",
   "pygments_lexer": "ipython3",
   "version": "3.7.1"
  }
 },
 "nbformat": 4,
 "nbformat_minor": 2
}
